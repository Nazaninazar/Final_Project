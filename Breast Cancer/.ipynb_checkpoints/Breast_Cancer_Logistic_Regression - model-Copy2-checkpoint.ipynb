{
 "cells": [
  {
   "cell_type": "code",
   "execution_count": 2,
   "metadata": {},
   "outputs": [],
   "source": [
    "# Import dependencies\n",
    "\n",
    "%matplotlib inline\n",
    "import matplotlib.pyplot as plt\n",
    "import pandas as pd\n",
    "import os\n",
    "import joblib\n",
    "from sklearn.model_selection import train_test_split\n",
    "from sklearn.linear_model import LogisticRegression"
   ]
  },
  {
   "cell_type": "code",
   "execution_count": 27,
   "metadata": {},
   "outputs": [
    {
     "name": "stderr",
     "output_type": "stream",
     "text": [
      "C:\\Users\\arnoldm\\anaconda\\anaconda3\\lib\\site-packages\\sklearn\\linear_model\\logistic.py:432: FutureWarning: Default solver will be changed to 'lbfgs' in 0.22. Specify a solver to silence this warning.\n",
      "  FutureWarning)\n"
     ]
    },
    {
     "data": {
      "text/plain": [
       "'M'"
      ]
     },
     "execution_count": 27,
     "metadata": {},
     "output_type": "execute_result"
    }
   ],
   "source": [
    "# Reading data\n",
    "final_data = pd.read_csv('final_data.csv')\n",
    "\n",
    "# Assign X (data) and y (target)\n",
    "X = final_data[[\"concave points_mean\", \"area_mean\", \"area_se\"]]\n",
    "y = final_data[\"diagnosis\"]\n",
    "\n",
    "# Split test and train datasets\n",
    "X_train, X_test, y_train, y_test = train_test_split(X, y, random_state=1, stratify=y, test_size=0.40)\n",
    "\n",
    "# Develop logistic regression\n",
    "classifier = LogisticRegression()\n",
    "\n",
    "classifier.fit(X_train, y_train)\n",
    "\n",
    "#predictions = classifier.predict(X_test)\n",
    "\n",
    "# load the model from disk\n",
    "#filename = 'finalized_model.sav'    \n",
    "#loaded_model = joblib.load(filename)\n",
    "#result = classifier.score(X_test, y_test)\n",
    "\n",
    "new_concave_point_value = 0.017\n",
    "new_area_value  = 1000\n",
    "new_area_sevalue = 14\n",
    "\n",
    "new_breastcancer_data = [[new_concave_point_value, new_area_value, new_area_sevalue]]\n",
    "\n",
    "predicted_class = classifier.predict(new_breastcancer_data)\n",
    "predicted_class[0]\n"
   ]
  },
  {
   "cell_type": "code",
   "execution_count": null,
   "metadata": {},
   "outputs": [],
   "source": []
  }
 ],
 "metadata": {
  "kernelspec": {
   "display_name": "Python 3",
   "language": "python",
   "name": "python3"
  },
  "language_info": {
   "codemirror_mode": {
    "name": "ipython",
    "version": 3
   },
   "file_extension": ".py",
   "mimetype": "text/x-python",
   "name": "python",
   "nbconvert_exporter": "python",
   "pygments_lexer": "ipython3",
   "version": "3.7.3"
  }
 },
 "nbformat": 4,
 "nbformat_minor": 2
}
