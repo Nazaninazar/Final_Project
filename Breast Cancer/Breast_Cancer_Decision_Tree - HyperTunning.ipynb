{
 "cells": [
  {
   "cell_type": "code",
   "execution_count": 1,
   "metadata": {},
   "outputs": [],
   "source": [
    "# Import dependencies\n",
    "\n",
    "%matplotlib inline\n",
    "import matplotlib.pyplot as plt\n",
    "import pandas as pd\n",
    "import os# Import dependencies\n",
    "from sklearn.tree import DecisionTreeClassifier\n",
    "from sklearn import datasets\n",
    "from IPython.display import Image  \n",
    "from sklearn import tree\n",
    "import pydotplus"
   ]
  },
  {
   "cell_type": "code",
   "execution_count": 2,
   "metadata": {},
   "outputs": [
    {
     "data": {
      "text/html": [
       "<div>\n",
       "<style scoped>\n",
       "    .dataframe tbody tr th:only-of-type {\n",
       "        vertical-align: middle;\n",
       "    }\n",
       "\n",
       "    .dataframe tbody tr th {\n",
       "        vertical-align: top;\n",
       "    }\n",
       "\n",
       "    .dataframe thead th {\n",
       "        text-align: right;\n",
       "    }\n",
       "</style>\n",
       "<table border=\"1\" class=\"dataframe\">\n",
       "  <thead>\n",
       "    <tr style=\"text-align: right;\">\n",
       "      <th></th>\n",
       "      <th>diagnosis</th>\n",
       "      <th>texture_mean</th>\n",
       "      <th>area_mean</th>\n",
       "      <th>smoothness_mean</th>\n",
       "      <th>compactness_mean</th>\n",
       "      <th>concave points_mean</th>\n",
       "      <th>symmetry_mean</th>\n",
       "      <th>fractal_dimension_mean</th>\n",
       "      <th>texture_se</th>\n",
       "      <th>area_se</th>\n",
       "      <th>smoothness_se</th>\n",
       "      <th>compactness_se</th>\n",
       "      <th>concavity_se</th>\n",
       "      <th>concave points_se</th>\n",
       "      <th>symmetry_se</th>\n",
       "      <th>fractal_dimension_se</th>\n",
       "      <th>smoothness_worst</th>\n",
       "      <th>symmetry_worst</th>\n",
       "      <th>fractal_dimension_worst</th>\n",
       "    </tr>\n",
       "  </thead>\n",
       "  <tbody>\n",
       "    <tr>\n",
       "      <th>0</th>\n",
       "      <td>M</td>\n",
       "      <td>10.38</td>\n",
       "      <td>1001.0</td>\n",
       "      <td>0.11840</td>\n",
       "      <td>0.27760</td>\n",
       "      <td>0.14710</td>\n",
       "      <td>0.2419</td>\n",
       "      <td>0.07871</td>\n",
       "      <td>0.9053</td>\n",
       "      <td>153.40</td>\n",
       "      <td>0.006399</td>\n",
       "      <td>0.04904</td>\n",
       "      <td>0.05373</td>\n",
       "      <td>0.01587</td>\n",
       "      <td>0.03003</td>\n",
       "      <td>0.006193</td>\n",
       "      <td>0.1622</td>\n",
       "      <td>0.4601</td>\n",
       "      <td>0.11890</td>\n",
       "    </tr>\n",
       "    <tr>\n",
       "      <th>1</th>\n",
       "      <td>M</td>\n",
       "      <td>17.77</td>\n",
       "      <td>1326.0</td>\n",
       "      <td>0.08474</td>\n",
       "      <td>0.07864</td>\n",
       "      <td>0.07017</td>\n",
       "      <td>0.1812</td>\n",
       "      <td>0.05667</td>\n",
       "      <td>0.7339</td>\n",
       "      <td>74.08</td>\n",
       "      <td>0.005225</td>\n",
       "      <td>0.01308</td>\n",
       "      <td>0.01860</td>\n",
       "      <td>0.01340</td>\n",
       "      <td>0.01389</td>\n",
       "      <td>0.003532</td>\n",
       "      <td>0.1238</td>\n",
       "      <td>0.2750</td>\n",
       "      <td>0.08902</td>\n",
       "    </tr>\n",
       "    <tr>\n",
       "      <th>2</th>\n",
       "      <td>M</td>\n",
       "      <td>21.25</td>\n",
       "      <td>1203.0</td>\n",
       "      <td>0.10960</td>\n",
       "      <td>0.15990</td>\n",
       "      <td>0.12790</td>\n",
       "      <td>0.2069</td>\n",
       "      <td>0.05999</td>\n",
       "      <td>0.7869</td>\n",
       "      <td>94.03</td>\n",
       "      <td>0.006150</td>\n",
       "      <td>0.04006</td>\n",
       "      <td>0.03832</td>\n",
       "      <td>0.02058</td>\n",
       "      <td>0.02250</td>\n",
       "      <td>0.004571</td>\n",
       "      <td>0.1444</td>\n",
       "      <td>0.3613</td>\n",
       "      <td>0.08758</td>\n",
       "    </tr>\n",
       "    <tr>\n",
       "      <th>3</th>\n",
       "      <td>M</td>\n",
       "      <td>20.38</td>\n",
       "      <td>386.1</td>\n",
       "      <td>0.14250</td>\n",
       "      <td>0.28390</td>\n",
       "      <td>0.10520</td>\n",
       "      <td>0.2597</td>\n",
       "      <td>0.09744</td>\n",
       "      <td>1.1560</td>\n",
       "      <td>27.23</td>\n",
       "      <td>0.009110</td>\n",
       "      <td>0.07458</td>\n",
       "      <td>0.05661</td>\n",
       "      <td>0.01867</td>\n",
       "      <td>0.05963</td>\n",
       "      <td>0.009208</td>\n",
       "      <td>0.2098</td>\n",
       "      <td>0.6638</td>\n",
       "      <td>0.17300</td>\n",
       "    </tr>\n",
       "    <tr>\n",
       "      <th>4</th>\n",
       "      <td>M</td>\n",
       "      <td>14.34</td>\n",
       "      <td>1297.0</td>\n",
       "      <td>0.10030</td>\n",
       "      <td>0.13280</td>\n",
       "      <td>0.10430</td>\n",
       "      <td>0.1809</td>\n",
       "      <td>0.05883</td>\n",
       "      <td>0.7813</td>\n",
       "      <td>94.44</td>\n",
       "      <td>0.011490</td>\n",
       "      <td>0.02461</td>\n",
       "      <td>0.05688</td>\n",
       "      <td>0.01885</td>\n",
       "      <td>0.01756</td>\n",
       "      <td>0.005115</td>\n",
       "      <td>0.1374</td>\n",
       "      <td>0.2364</td>\n",
       "      <td>0.07678</td>\n",
       "    </tr>\n",
       "  </tbody>\n",
       "</table>\n",
       "</div>"
      ],
      "text/plain": [
       "  diagnosis  texture_mean  area_mean  smoothness_mean  compactness_mean  \\\n",
       "0         M         10.38     1001.0          0.11840           0.27760   \n",
       "1         M         17.77     1326.0          0.08474           0.07864   \n",
       "2         M         21.25     1203.0          0.10960           0.15990   \n",
       "3         M         20.38      386.1          0.14250           0.28390   \n",
       "4         M         14.34     1297.0          0.10030           0.13280   \n",
       "\n",
       "   concave points_mean  symmetry_mean  fractal_dimension_mean  texture_se  \\\n",
       "0              0.14710         0.2419                 0.07871      0.9053   \n",
       "1              0.07017         0.1812                 0.05667      0.7339   \n",
       "2              0.12790         0.2069                 0.05999      0.7869   \n",
       "3              0.10520         0.2597                 0.09744      1.1560   \n",
       "4              0.10430         0.1809                 0.05883      0.7813   \n",
       "\n",
       "   area_se  smoothness_se  compactness_se  concavity_se  concave points_se  \\\n",
       "0   153.40       0.006399         0.04904       0.05373            0.01587   \n",
       "1    74.08       0.005225         0.01308       0.01860            0.01340   \n",
       "2    94.03       0.006150         0.04006       0.03832            0.02058   \n",
       "3    27.23       0.009110         0.07458       0.05661            0.01867   \n",
       "4    94.44       0.011490         0.02461       0.05688            0.01885   \n",
       "\n",
       "   symmetry_se  fractal_dimension_se  smoothness_worst  symmetry_worst  \\\n",
       "0      0.03003              0.006193            0.1622          0.4601   \n",
       "1      0.01389              0.003532            0.1238          0.2750   \n",
       "2      0.02250              0.004571            0.1444          0.3613   \n",
       "3      0.05963              0.009208            0.2098          0.6638   \n",
       "4      0.01756              0.005115            0.1374          0.2364   \n",
       "\n",
       "   fractal_dimension_worst  \n",
       "0                  0.11890  \n",
       "1                  0.08902  \n",
       "2                  0.08758  \n",
       "3                  0.17300  \n",
       "4                  0.07678  "
      ]
     },
     "execution_count": 2,
     "metadata": {},
     "output_type": "execute_result"
    }
   ],
   "source": [
    "# Reading data\n",
    "\n",
    "final_data = pd.read_csv('final_data.csv')\n",
    "final_data.head()"
   ]
  },
  {
   "cell_type": "code",
   "execution_count": 3,
   "metadata": {},
   "outputs": [
    {
     "name": "stdout",
     "output_type": "stream",
     "text": [
      "(569, 18) (569,)\n"
     ]
    }
   ],
   "source": [
    "# Assign X (data) and y (target)\n",
    "\n",
    "X = final_data.drop(\"diagnosis\", axis=1)\n",
    "feature_names = X.columns\n",
    "y = final_data[\"diagnosis\"]\n",
    "print(X.shape, y.shape)"
   ]
  },
  {
   "cell_type": "code",
   "execution_count": 4,
   "metadata": {},
   "outputs": [],
   "source": [
    "# Split test and train datasets\n",
    "\n",
    "from sklearn.model_selection import train_test_split\n",
    "\n",
    "X_train, X_test, y_train, y_test = train_test_split(X, y, random_state=1, stratify=y, test_size=0.40)"
   ]
  },
  {
   "cell_type": "code",
   "execution_count": 5,
   "metadata": {},
   "outputs": [],
   "source": [
    "# Scale your data\n",
    "\n",
    "from sklearn.preprocessing import StandardScaler\n",
    "\n",
    "X_scaler = StandardScaler().fit(X_train)\n",
    "\n",
    "X_train_scaled = X_scaler.transform(X_train)\n",
    "X_test_scaled = X_scaler.transform(X_test)"
   ]
  },
  {
   "cell_type": "code",
   "execution_count": 6,
   "metadata": {},
   "outputs": [
    {
     "data": {
      "text/plain": [
       "1.0"
      ]
     },
     "execution_count": 6,
     "metadata": {},
     "output_type": "execute_result"
    }
   ],
   "source": [
    "# Develop en train moidel - show train score\n",
    "\n",
    "from sklearn.ensemble import RandomForestClassifier\n",
    "rf = RandomForestClassifier(criterion = \"entropy\", n_estimators=200, bootstrap=True)\n",
    "rf = rf.fit(X_train_scaled, y_train)\n",
    "rf.score(X_train_scaled, y_train)"
   ]
  },
  {
   "cell_type": "code",
   "execution_count": 7,
   "metadata": {},
   "outputs": [
    {
     "data": {
      "text/plain": [
       "0.956140350877193"
      ]
     },
     "execution_count": 7,
     "metadata": {},
     "output_type": "execute_result"
    }
   ],
   "source": [
    "# Show test score\n",
    "\n",
    "rf.score(X_test_scaled, y_test)"
   ]
  },
  {
   "cell_type": "code",
   "execution_count": 8,
   "metadata": {},
   "outputs": [
    {
     "name": "stdout",
     "output_type": "stream",
     "text": [
      "First 20 Predictions:   ['M' 'M' 'M' 'M' 'M' 'M' 'M' 'M' 'M' 'M' 'M' 'M' 'M' 'M' 'M' 'M' 'M' 'M'\n",
      " 'M' 'M']\n",
      "First 20 Actual labels: ['B', 'B', 'M', 'M', 'M', 'M', 'M', 'B', 'B', 'B', 'B', 'B', 'B', 'B', 'B', 'B', 'B', 'B', 'B', 'B']\n"
     ]
    }
   ],
   "source": [
    "# Comparing predictions\n",
    "\n",
    "predictions = rf.predict(X_test)\n",
    "print(f\"First 20 Predictions:   {predictions[:20]}\")\n",
    "print(f\"First 20 Actual labels: {y_test[:20].tolist()}\")"
   ]
  },
  {
   "cell_type": "code",
   "execution_count": 9,
   "metadata": {},
   "outputs": [],
   "source": [
    "# Tuning parameters using three models with number of trees (10, 20, 50) and number of levels in the decision tree levels\n",
    "\n",
    "\n",
    "# Create the GridSearchCV model\n",
    "from sklearn.model_selection import GridSearchCV\n",
    "\n",
    "param_grid2 = {'n_estimators': [10, 20, 50],\n",
    "              'max_depth': [10, 30, 50]}\n",
    "grid2 = GridSearchCV(rf, param_grid2, verbose=3)"
   ]
  },
  {
   "cell_type": "code",
   "execution_count": 10,
   "metadata": {},
   "outputs": [
    {
     "name": "stdout",
     "output_type": "stream",
     "text": [
      "Fitting 5 folds for each of 9 candidates, totalling 45 fits\n",
      "[CV] max_depth=10, n_estimators=10 ...................................\n",
      "[CV] ....... max_depth=10, n_estimators=10, score=0.942, total=   0.0s\n",
      "[CV] max_depth=10, n_estimators=10 ...................................\n",
      "[CV] ....... max_depth=10, n_estimators=10, score=0.926, total=   0.0s\n",
      "[CV] max_depth=10, n_estimators=10 ...................................\n",
      "[CV] ....... max_depth=10, n_estimators=10, score=0.956, total=   0.0s\n",
      "[CV] max_depth=10, n_estimators=10 ...................................\n",
      "[CV] ....... max_depth=10, n_estimators=10, score=0.971, total=   0.0s\n",
      "[CV] max_depth=10, n_estimators=10 ...................................\n",
      "[CV] ....... max_depth=10, n_estimators=10, score=0.941, total=   0.0s\n",
      "[CV] max_depth=10, n_estimators=20 ...................................\n",
      "[CV] ....... max_depth=10, n_estimators=20, score=0.971, total=   0.0s\n",
      "[CV] max_depth=10, n_estimators=20 ...................................\n",
      "[CV] ....... max_depth=10, n_estimators=20, score=0.912, total=   0.0s\n",
      "[CV] max_depth=10, n_estimators=20 ...................................\n",
      "[CV] ....... max_depth=10, n_estimators=20, score=0.956, total=   0.0s\n",
      "[CV] max_depth=10, n_estimators=20 ...................................\n",
      "[CV] ....... max_depth=10, n_estimators=20, score=0.971, total=   0.0s\n",
      "[CV] max_depth=10, n_estimators=20 ...................................\n",
      "[CV] ....... max_depth=10, n_estimators=20, score=0.941, total=   0.0s\n",
      "[CV] max_depth=10, n_estimators=50 ...................................\n"
     ]
    },
    {
     "name": "stderr",
     "output_type": "stream",
     "text": [
      "[Parallel(n_jobs=1)]: Using backend SequentialBackend with 1 concurrent workers.\n",
      "[Parallel(n_jobs=1)]: Done   1 out of   1 | elapsed:    0.0s remaining:    0.0s\n",
      "[Parallel(n_jobs=1)]: Done   2 out of   2 | elapsed:    0.0s remaining:    0.0s\n"
     ]
    },
    {
     "name": "stdout",
     "output_type": "stream",
     "text": [
      "[CV] ....... max_depth=10, n_estimators=50, score=0.957, total=   0.1s\n",
      "[CV] max_depth=10, n_estimators=50 ...................................\n",
      "[CV] ....... max_depth=10, n_estimators=50, score=0.912, total=   0.1s\n",
      "[CV] max_depth=10, n_estimators=50 ...................................\n",
      "[CV] ....... max_depth=10, n_estimators=50, score=0.926, total=   0.1s\n",
      "[CV] max_depth=10, n_estimators=50 ...................................\n",
      "[CV] ....... max_depth=10, n_estimators=50, score=0.971, total=   0.1s\n",
      "[CV] max_depth=10, n_estimators=50 ...................................\n",
      "[CV] ....... max_depth=10, n_estimators=50, score=0.956, total=   0.1s\n",
      "[CV] max_depth=30, n_estimators=10 ...................................\n",
      "[CV] ....... max_depth=30, n_estimators=10, score=0.957, total=   0.0s\n",
      "[CV] max_depth=30, n_estimators=10 ...................................\n",
      "[CV] ....... max_depth=30, n_estimators=10, score=0.897, total=   0.0s\n",
      "[CV] max_depth=30, n_estimators=10 ...................................\n",
      "[CV] ....... max_depth=30, n_estimators=10, score=0.926, total=   0.0s\n",
      "[CV] max_depth=30, n_estimators=10 ...................................\n",
      "[CV] ....... max_depth=30, n_estimators=10, score=0.941, total=   0.0s\n",
      "[CV] max_depth=30, n_estimators=10 ...................................\n",
      "[CV] ....... max_depth=30, n_estimators=10, score=0.926, total=   0.0s\n",
      "[CV] max_depth=30, n_estimators=20 ...................................\n",
      "[CV] ....... max_depth=30, n_estimators=20, score=0.957, total=   0.0s\n",
      "[CV] max_depth=30, n_estimators=20 ...................................\n",
      "[CV] ....... max_depth=30, n_estimators=20, score=0.926, total=   0.0s\n",
      "[CV] max_depth=30, n_estimators=20 ...................................\n",
      "[CV] ....... max_depth=30, n_estimators=20, score=0.971, total=   0.0s\n",
      "[CV] max_depth=30, n_estimators=20 ...................................\n",
      "[CV] ....... max_depth=30, n_estimators=20, score=0.971, total=   0.0s\n",
      "[CV] max_depth=30, n_estimators=20 ...................................\n",
      "[CV] ....... max_depth=30, n_estimators=20, score=0.956, total=   0.0s\n",
      "[CV] max_depth=30, n_estimators=50 ...................................\n",
      "[CV] ....... max_depth=30, n_estimators=50, score=0.957, total=   0.1s\n",
      "[CV] max_depth=30, n_estimators=50 ...................................\n",
      "[CV] ....... max_depth=30, n_estimators=50, score=0.912, total=   0.1s\n",
      "[CV] max_depth=30, n_estimators=50 ...................................\n",
      "[CV] ....... max_depth=30, n_estimators=50, score=0.956, total=   0.1s\n",
      "[CV] max_depth=30, n_estimators=50 ...................................\n",
      "[CV] ....... max_depth=30, n_estimators=50, score=0.971, total=   0.1s\n",
      "[CV] max_depth=30, n_estimators=50 ...................................\n",
      "[CV] ....... max_depth=30, n_estimators=50, score=0.941, total=   0.1s\n",
      "[CV] max_depth=50, n_estimators=10 ...................................\n",
      "[CV] ....... max_depth=50, n_estimators=10, score=0.957, total=   0.0s\n",
      "[CV] max_depth=50, n_estimators=10 ...................................\n",
      "[CV] ....... max_depth=50, n_estimators=10, score=0.941, total=   0.0s\n",
      "[CV] max_depth=50, n_estimators=10 ...................................\n",
      "[CV] ....... max_depth=50, n_estimators=10, score=0.912, total=   0.0s\n",
      "[CV] max_depth=50, n_estimators=10 ...................................\n",
      "[CV] ....... max_depth=50, n_estimators=10, score=0.985, total=   0.0s\n",
      "[CV] max_depth=50, n_estimators=10 ...................................\n",
      "[CV] ....... max_depth=50, n_estimators=10, score=0.926, total=   0.0s\n",
      "[CV] max_depth=50, n_estimators=20 ...................................\n",
      "[CV] ....... max_depth=50, n_estimators=20, score=0.957, total=   0.0s\n",
      "[CV] max_depth=50, n_estimators=20 ...................................\n",
      "[CV] ....... max_depth=50, n_estimators=20, score=0.941, total=   0.0s\n",
      "[CV] max_depth=50, n_estimators=20 ...................................\n",
      "[CV] ....... max_depth=50, n_estimators=20, score=0.971, total=   0.0s\n",
      "[CV] max_depth=50, n_estimators=20 ...................................\n",
      "[CV] ....... max_depth=50, n_estimators=20, score=0.985, total=   0.0s\n",
      "[CV] max_depth=50, n_estimators=20 ...................................\n",
      "[CV] ....... max_depth=50, n_estimators=20, score=0.926, total=   0.0s\n",
      "[CV] max_depth=50, n_estimators=50 ...................................\n",
      "[CV] ....... max_depth=50, n_estimators=50, score=0.971, total=   0.1s\n",
      "[CV] max_depth=50, n_estimators=50 ...................................\n",
      "[CV] ....... max_depth=50, n_estimators=50, score=0.912, total=   0.1s\n",
      "[CV] max_depth=50, n_estimators=50 ...................................\n",
      "[CV] ....... max_depth=50, n_estimators=50, score=0.912, total=   0.1s\n",
      "[CV] max_depth=50, n_estimators=50 ...................................\n",
      "[CV] ....... max_depth=50, n_estimators=50, score=0.985, total=   0.1s\n",
      "[CV] max_depth=50, n_estimators=50 ...................................\n",
      "[CV] ....... max_depth=50, n_estimators=50, score=0.941, total=   0.1s\n"
     ]
    },
    {
     "name": "stderr",
     "output_type": "stream",
     "text": [
      "[Parallel(n_jobs=1)]: Done  45 out of  45 | elapsed:    1.2s finished\n"
     ]
    },
    {
     "data": {
      "text/plain": [
       "GridSearchCV(cv=None, error_score=nan,\n",
       "             estimator=RandomForestClassifier(bootstrap=True, ccp_alpha=0.0,\n",
       "                                              class_weight=None,\n",
       "                                              criterion='entropy',\n",
       "                                              max_depth=None,\n",
       "                                              max_features='auto',\n",
       "                                              max_leaf_nodes=None,\n",
       "                                              max_samples=None,\n",
       "                                              min_impurity_decrease=0.0,\n",
       "                                              min_impurity_split=None,\n",
       "                                              min_samples_leaf=1,\n",
       "                                              min_samples_split=2,\n",
       "                                              min_weight_fraction_leaf=0.0,\n",
       "                                              n_estimators=200, n_jobs=None,\n",
       "                                              oob_score=False,\n",
       "                                              random_state=None, verbose=0,\n",
       "                                              warm_start=False),\n",
       "             iid='deprecated', n_jobs=None,\n",
       "             param_grid={'max_depth': [10, 30, 50],\n",
       "                         'n_estimators': [10, 20, 50]},\n",
       "             pre_dispatch='2*n_jobs', refit=True, return_train_score=False,\n",
       "             scoring=None, verbose=3)"
      ]
     },
     "execution_count": 10,
     "metadata": {},
     "output_type": "execute_result"
    }
   ],
   "source": [
    "# Training the models\n",
    "\n",
    "grid2.fit(X_train_scaled, y_train)"
   ]
  },
  {
   "cell_type": "code",
   "execution_count": 11,
   "metadata": {},
   "outputs": [
    {
     "name": "stdout",
     "output_type": "stream",
     "text": [
      "{'max_depth': 30, 'n_estimators': 20}\n",
      "0.9560102301790282\n"
     ]
    }
   ],
   "source": [
    "# Printing score and best model parameters\n",
    "\n",
    "print(grid2.best_params_)\n",
    "print(grid2.best_score_)"
   ]
  },
  {
   "cell_type": "code",
   "execution_count": 12,
   "metadata": {},
   "outputs": [
    {
     "data": {
      "text/plain": [
       "1.0"
      ]
     },
     "execution_count": 12,
     "metadata": {},
     "output_type": "execute_result"
    }
   ],
   "source": [
    "# Score for the training dataset\n",
    "\n",
    "grid2.score(X_train_scaled, y_train)"
   ]
  },
  {
   "cell_type": "code",
   "execution_count": 13,
   "metadata": {},
   "outputs": [
    {
     "data": {
      "text/plain": [
       "0.956140350877193"
      ]
     },
     "execution_count": 13,
     "metadata": {},
     "output_type": "execute_result"
    }
   ],
   "source": [
    "# Score for the test dataset\n",
    "\n",
    "grid2.score(X_test_scaled, y_test)"
   ]
  },
  {
   "cell_type": "code",
   "execution_count": 14,
   "metadata": {},
   "outputs": [],
   "source": [
    "# Setting predictioons for the second model\n",
    "\n",
    "predictions2 = grid2.predict(X_test_scaled)"
   ]
  },
  {
   "cell_type": "code",
   "execution_count": 15,
   "metadata": {},
   "outputs": [
    {
     "name": "stdout",
     "output_type": "stream",
     "text": [
      "              precision    recall  f1-score   support\n",
      "\n",
      "           B      0.946     0.986     0.966       143\n",
      "           M      0.975     0.906     0.939        85\n",
      "\n",
      "    accuracy                          0.956       228\n",
      "   macro avg      0.960     0.946     0.952       228\n",
      "weighted avg      0.957     0.956     0.956       228\n",
      "\n",
      "Confusion Matrix: \n",
      " [[141   2]\n",
      " [  8  77]] \n",
      "\n",
      "True Negative: 141\n",
      "False Positive: 2\n",
      "False Negative: 8\n",
      "True Positive: 77\n",
      "Correct Predictions 95.6 %\n"
     ]
    }
   ],
   "source": [
    "# Confusion matrix\n",
    "\n",
    "from sklearn.metrics import confusion_matrix, classification_report, precision_score\n",
    "\n",
    "print(classification_report(y_test, predictions2, digits=3))\n",
    "\n",
    "cfm = confusion_matrix(y_test, predictions2)\n",
    "\n",
    "true_negative = cfm[0][0]\n",
    "false_positive = cfm[0][1]\n",
    "false_negative = cfm[1][0]\n",
    "true_positive = cfm[1][1]\n",
    "\n",
    "print('Confusion Matrix: \\n', cfm, '\\n')\n",
    "\n",
    "print('True Negative:', true_negative)\n",
    "print('False Positive:', false_positive)\n",
    "print('False Negative:', false_negative)\n",
    "print('True Positive:', true_positive)\n",
    "print('Correct Predictions', \n",
    "      round((true_negative + true_positive) / len(predictions2) * 100, 1), '%')"
   ]
  },
  {
   "cell_type": "code",
   "execution_count": 16,
   "metadata": {},
   "outputs": [
    {
     "name": "stdout",
     "output_type": "stream",
     "text": [
      "Automatically created module for IPython interactive environment\n"
     ]
    },
    {
     "data": {
      "image/png": "[encoded data removed]",
      "text/plain": [
       "<Figure size 720x720 with 1 Axes>"
      ]
     },
     "metadata": {
      "needs_background": "light"
     },
     "output_type": "display_data"
    }
   ],
   "source": [
    "print(__doc__)\n",
    "\n",
    "import numpy as np\n",
    "import matplotlib.pyplot as plt\n",
    "#from sklearn import cross_validation\n",
    "from sklearn.naive_bayes import GaussianNB\n",
    "from sklearn.svm import SVC\n",
    "from sklearn.datasets import load_digits\n",
    "from sklearn.model_selection import learning_curve\n",
    "from sklearn.model_selection import ShuffleSplit\n",
    "\n",
    "\n",
    "def plot_learning_curve(estimator, title, X, y, ylim=None, cv=None,\n",
    "                        n_jobs=1, train_sizes=np.linspace(.1, 1.0, 5)):\n",
    "    \"\"\"\n",
    "    Generate a simple plot of the test and traning learning curve.\n",
    "\n",
    "    Parameters\n",
    "    ----------\n",
    "    estimator : object type that implements the \"fit\" and \"predict\" methods\n",
    "        An object of that type which is cloned for each validation.\n",
    "\n",
    "    title : string\n",
    "        Title for the chart.\n",
    "\n",
    "    X : array-like, shape (n_samples, n_features)\n",
    "        Training vector, where n_samples is the number of samples and\n",
    "        n_features is the number of features.\n",
    "\n",
    "    y : array-like, shape (n_samples) or (n_samples, n_features), optional\n",
    "        Target relative to X for classification or regression;\n",
    "        None for unsupervised learning.\n",
    "\n",
    "    ylim : tuple, shape (ymin, ymax), optional\n",
    "        Defines minimum and maximum yvalues plotted.\n",
    "\n",
    "    cv : integer, cross-validation generator, optional\n",
    "        If an integer is passed, it is the number of folds (defaults to 3).\n",
    "        Specific cross-validation objects can be passed, see\n",
    "        sklearn.cross_validation module for the list of possible objects\n",
    "\n",
    "    n_jobs : integer, optional\n",
    "        Number of jobs to run in parallel (default 1).\n",
    "    \"\"\"\n",
    "    plt.figure(figsize=(10,10))\n",
    "    plt.title(title)\n",
    "    if ylim is not None:\n",
    "        plt.ylim(*ylim)\n",
    "    plt.xlabel(\"Training examples\")\n",
    "    plt.ylabel(\"Score\")\n",
    "    train_sizes, train_scores, test_scores = learning_curve(\n",
    "        estimator, X, y, cv=cv, n_jobs=n_jobs, train_sizes=train_sizes)\n",
    "    train_scores_mean = np.mean(train_scores, axis=1)\n",
    "    train_scores_std = np.std(train_scores, axis=1)\n",
    "    test_scores_mean = np.mean(test_scores, axis=1)\n",
    "    test_scores_std = np.std(test_scores, axis=1)\n",
    "    plt.grid()\n",
    "\n",
    "    plt.fill_between(train_sizes, train_scores_mean - train_scores_std,\n",
    "                     train_scores_mean + train_scores_std, alpha=0.1,\n",
    "                     color=\"r\")\n",
    "    plt.fill_between(train_sizes, test_scores_mean - test_scores_std,\n",
    "                     test_scores_mean + test_scores_std, alpha=0.1, color=\"g\")\n",
    "    plt.plot(train_sizes, train_scores_mean, 'o-', color=\"r\",\n",
    "             label=\"Training score\")\n",
    "    plt.plot(train_sizes, test_scores_mean, 'o-', color=\"g\",\n",
    "             label=\"Cross-validation score\")\n",
    "\n",
    "    plt.legend(loc=\"best\")\n",
    "    return plt\n",
    "\n",
    "\n",
    "title = \"Learning Curves: Random Forest\"\n",
    "# Cross validation with 100 iterations to get smoother mean test and train\n",
    "# score curves, each time with 20% data randomly selected as a validation set.\n",
    "cv = ShuffleSplit(n_splits=10, test_size=0.2, random_state=0)\n",
    "\n",
    "clf = GridSearchCV(rf, param_grid2, verbose=3)\n",
    "plot_learning_curve(clf, title, X, y, cv=cv, n_jobs=6)\n",
    "\n",
    "\n",
    "# Save the plot\n",
    "plt.savefig(\"Images/learning_curve_gridparameters.png\")\n",
    "\n",
    "plt.show()"
   ]
  },
  {
   "cell_type": "code",
   "execution_count": 17,
   "metadata": {},
   "outputs": [
    {
     "data": {
      "text/plain": [
       "['grid2.sav']"
      ]
     },
     "execution_count": 17,
     "metadata": {},
     "output_type": "execute_result"
    }
   ],
   "source": [
    "# Save mode\n",
    "\n",
    "import joblib\n",
    "filename = 'grid2.sav'\n",
    "joblib.dump(grid2, 'grid2.sav')"
   ]
  },
  {
   "cell_type": "code",
   "execution_count": null,
   "metadata": {},
   "outputs": [],
   "source": []
  }
 ],
 "metadata": {
  "kernelspec": {
   "display_name": "Python 3",
   "language": "python",
   "name": "python3"
  },
  "language_info": {
   "codemirror_mode": {
    "name": "ipython",
    "version": 3
   },
   "file_extension": ".py",
   "mimetype": "text/x-python",
   "name": "python",
   "nbconvert_exporter": "python",
   "pygments_lexer": "ipython3",
   "version": "3.7.3"
  }
 },
 "nbformat": 4,
 "nbformat_minor": 2
}
